{
 "cells": [
  {
   "cell_type": "code",
   "execution_count": 1,
   "id": "5f1bbc89-4948-4c07-bf06-5bcb678472f9",
   "metadata": {},
   "outputs": [
    {
     "name": "stdout",
     "output_type": "stream",
     "text": [
      "Ranjana\n",
      "Ranjana T S\n",
      "PHP is a server scripting language, and a powerful tool for making dynamic and interactive Web pages\n",
      "PHP is a widely-used, free, and efficient alternative to competitors such as Microsoft's ASP\n"
     ]
    }
   ],
   "source": [
    "#Basic syntax of string operations in python\n",
    "a=\"Ranjana\"\n",
    "b=\"Ranjana T S\"\n",
    "c=\"\"\"PHP is a server scripting language, and a powerful tool for making dynamic and interactive Web pages\"\"\"\n",
    "d='''PHP is a widely-used, free, and efficient alternative to competitors such as Microsoft's ASP'''\n",
    "print(a)\n",
    "print(b)\n",
    "print(c)\n",
    "print(d)"
   ]
  },
  {
   "cell_type": "code",
   "execution_count": 5,
   "id": "9a2e6065-282d-4a0e-944c-02e3142d8d34",
   "metadata": {},
   "outputs": [
    {
     "name": "stdout",
     "output_type": "stream",
     "text": [
      "y\n",
      "yt\n",
      "yth\n",
      "ytho\n",
      "ython\n",
      "ython \n",
      "ython p\n",
      "Python programming\n"
     ]
    }
   ],
   "source": [
    "#String slicing \n",
    "#str[start:stop:step]\n",
    "#start and stop \n",
    "x=\"Python programming\"\n",
    "print(x[1:2])\n",
    "print(x[1:3])\n",
    "print(x[1:4])\n",
    "print(x[1:5])\n",
    "print(x[1:6])\n",
    "print(x[1:7])\n",
    "print(x[1:8])\n",
    "print(x[0:18])"
   ]
  },
  {
   "cell_type": "code",
   "execution_count": 16,
   "id": "43e0294c-3612-4138-ba4a-b9b3e7a78edb",
   "metadata": {},
   "outputs": [
    {
     "name": "stdout",
     "output_type": "stream",
     "text": [
      "ython programming\n",
      "Python programming\n",
      "Python\n",
      "g\n",
      "g\n",
      "programming\n",
      "Python programming\n",
      "Python programming\n",
      "Python programming\n"
     ]
    }
   ],
   "source": [
    "#String slicing \n",
    "#str[start:stop:step]\n",
    "#start and stop if nothing is mentioned\n",
    "#Defaults if nothing is mentioned:\n",
    "#start → 0 (beginning)\n",
    "#stop → len(string) (end)\n",
    "#step → 1 (normal order)\n",
    "print(x[1:])\n",
    "print(x[:18])\n",
    "print(x[:6])\n",
    "print(x[-1])\n",
    "print(x[-1:])\n",
    "print(x[-11:])\n",
    "print(x[-18:])\n",
    "print(x[:])\n",
    "print(x[::])"
   ]
  },
  {
   "cell_type": "code",
   "execution_count": 29,
   "id": "4f87ebfa-959e-4af1-892b-a1032ae3cc4a",
   "metadata": {},
   "outputs": [
    {
     "name": "stdout",
     "output_type": "stream",
     "text": [
      "computer\n",
      "cmue\n",
      "cpe\n",
      "cu\n",
      "ct\n",
      "ce\n",
      "retupmoc\n"
     ]
    }
   ],
   "source": [
    "#String slicing \n",
    "#str[start:stop:step]\n",
    "#step\n",
    "s='computer'\n",
    "print(s[::1])\n",
    "print(s[::2])\n",
    "print(s[::3])\n",
    "print(s[::4])\n",
    "print(s[::5])\n",
    "print(s[::6])\n",
    "print(s[::-1])"
   ]
  },
  {
   "cell_type": "code",
   "execution_count": 60,
   "id": "8164011f-d428-48a6-8074-b2ad62bd0277",
   "metadata": {},
   "outputs": [
    {
     "name": "stdout",
     "output_type": "stream",
     "text": [
      "hello world\n",
      "hello\n",
      "world \n",
      "world\n",
      "hello world\n",
      "hlowrd\n",
      "hlwl\n",
      "wrd\n"
     ]
    }
   ],
   "source": [
    "#String slicing \n",
    "#str[start:stop:step]\n",
    "#start ,stop and step\n",
    "str=\"hello world \"\n",
    "print(str[0:11:1])\n",
    "print(str[0:5:1])\n",
    "print(str[6::1])\n",
    "print(str[6:11:1])\n",
    "print(str[-12:-1])\n",
    "print(str[0:11:2])\n",
    "print(str[0:11:3])\n",
    "print(str[6:11:2])"
   ]
  },
  {
   "cell_type": "code",
   "execution_count": 65,
   "id": "bec04d8f-1349-4c97-b505-753778dbf1c5",
   "metadata": {},
   "outputs": [
    {
     "name": "stdout",
     "output_type": "stream",
     "text": [
      "h\n",
      "e\n",
      "l\n",
      "l\n",
      "o\n",
      "P\n",
      "y\n",
      "t\n",
      "h\n",
      "o\n",
      "n\n"
     ]
    }
   ],
   "source": [
    "#looping in string\n",
    "a='hello'\n",
    "for i in a:\n",
    "    print(i)\n",
    "for i in \"Python\":\n",
    "    print(i)"
   ]
  },
  {
   "cell_type": "code",
   "execution_count": 66,
   "id": "1cf4cfa2-5178-40f6-8897-99250bc7a6dc",
   "metadata": {},
   "outputs": [
    {
     "name": "stdout",
     "output_type": "stream",
     "text": [
      "7\n"
     ]
    }
   ],
   "source": [
    "#String method\n",
    "z=\"Krishna\"\n",
    "print(len(z))"
   ]
  },
  {
   "cell_type": "code",
   "execution_count": 67,
   "id": "0180d7c7-be57-4457-8fc9-5a01cda5e963",
   "metadata": {},
   "outputs": [
    {
     "name": "stdin",
     "output_type": "stream",
     "text": [
      "Enter the string: python programming\n"
     ]
    },
    {
     "name": "stdout",
     "output_type": "stream",
     "text": [
      "4\n"
     ]
    }
   ],
   "source": [
    "#To check the vowels\n",
    "st1=input(\"Enter the string:\")\n",
    "a=0\n",
    "for i in st1:\n",
    "    if i in \"aeiouAEIOU\":\n",
    "        a=a+1\n",
    "print(a)"
   ]
  },
  {
   "cell_type": "code",
   "execution_count": 68,
   "id": "2b944e9a-df75-49b1-9e84-d4b8e5378517",
   "metadata": {},
   "outputs": [
    {
     "name": "stdout",
     "output_type": "stream",
     "text": [
      "ARTIFICIAL INTELLIGENCE AND MACHINE LEARNING\n",
      "artificial intelligence and machine learning\n",
      "28\n",
      "Artificial Foundation and Machine Learning\n"
     ]
    }
   ],
   "source": [
    "#String methods\n",
    "s=\"Artificial Intelligence and Machine Learning\"\n",
    "print(s.upper())\n",
    "print(s.lower())\n",
    "print(s.find(\"Machine\"))\n",
    "print(s.replace(\"Intelligence\",\"Foundation\"))"
   ]
  },
  {
   "cell_type": "code",
   "execution_count": 69,
   "id": "9cd8325d-bc61-42c8-911d-70f32bd712c2",
   "metadata": {},
   "outputs": [
    {
     "name": "stdout",
     "output_type": "stream",
     "text": [
      "HelloStudents\n",
      "HelloHello\n"
     ]
    }
   ],
   "source": [
    "#String concatenation and Repetition\n",
    "a=\"Hello\"\n",
    "b=\"Students\"\n",
    "print(a+b)\n",
    "print(a*2)"
   ]
  },
  {
   "cell_type": "code",
   "execution_count": 70,
   "id": "368c62a6-a581-44be-a73b-2d1c26943004",
   "metadata": {},
   "outputs": [
    {
     "name": "stdout",
     "output_type": "stream",
     "text": [
      "0\n",
      "2\n",
      "4\n"
     ]
    }
   ],
   "source": [
    "#Loop with step value using range()\n",
    "for i in range(0,5,2):\n",
    "    print(i)"
   ]
  },
  {
   "cell_type": "code",
   "execution_count": null,
   "id": "8a028a4f-8606-46a6-921d-7783c0c6e608",
   "metadata": {},
   "outputs": [],
   "source": [
    "#Count no.of uppercase,lowercase and digits in a sentence\n",
    "s=input(\"Enter the sentence:\")\n",
    "u=0\n",
    "l=0\n",
    "d=0\n",
    "for i in s:\n",
    "    if i.isupper():\n",
    "        u=u+1\n",
    "    elif i.islower():\n",
    "        l=l+1\n",
    "    elif i.isdigit():\n",
    "        d=d+1\n",
    "print(\"No of upper cases:\",u)\n",
    "print(\"No of lower cases:\",l)\n",
    "print(\"No of digits:\",d)"
   ]
  }
 ],
 "metadata": {
  "kernelspec": {
   "display_name": "Python 3 (ipykernel)",
   "language": "python",
   "name": "python3"
  },
  "language_info": {
   "codemirror_mode": {
    "name": "ipython",
    "version": 3
   },
   "file_extension": ".py",
   "mimetype": "text/x-python",
   "name": "python",
   "nbconvert_exporter": "python",
   "pygments_lexer": "ipython3",
   "version": "3.13.7"
  }
 },
 "nbformat": 4,
 "nbformat_minor": 5
}
