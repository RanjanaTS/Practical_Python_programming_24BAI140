{
 "cells": [
  {
   "cell_type": "code",
   "execution_count": 1,
   "id": "feac131f-d11d-4c38-88c0-1e910a802fa7",
   "metadata": {},
   "outputs": [
    {
     "name": "stdout",
     "output_type": "stream",
     "text": [
      "[2, 4, 6, 8, 10] ['Red', 'blue', 'pink', 'yellow', 'black'] [140, 80.9, 'Ranjana', True] []\n"
     ]
    }
   ],
   "source": [
    "#Creating a list \n",
    "numbers=[2,4,6,8,10]\n",
    "colors=[\"Red\",\"blue\",\"pink\",\"yellow\",\"black\"]\n",
    "combined_list=[140,80.9,\"Ranjana\",True]\n",
    "empty_list=[]\n",
    "print(numbers,colors,combined_list,empty_list)"
   ]
  },
  {
   "cell_type": "code",
   "execution_count": 2,
   "id": "6d193433-13ab-4d94-8297-f542aa0250f9",
   "metadata": {},
   "outputs": [
    {
     "name": "stdout",
     "output_type": "stream",
     "text": [
      "Red\n",
      "Red\n",
      "black\n",
      "black\n"
     ]
    }
   ],
   "source": [
    "#Accessing list elements\n",
    "colors=[\"Red\",\"blue\",\"pink\",\"yellow\",\"black\"]\n",
    "print(colors[0])\n",
    "print(colors[-5])\n",
    "print(colors[4])\n",
    "print(colors[-1])"
   ]
  },
  {
   "cell_type": "code",
   "execution_count": 3,
   "id": "3649a5c5-39a1-4ef7-aa0d-96ce99742a16",
   "metadata": {},
   "outputs": [
    {
     "name": "stdout",
     "output_type": "stream",
     "text": [
      "['Red', 'Lavender', 'Green', 'yellow', 'black']\n"
     ]
    }
   ],
   "source": [
    "#Modify a list\n",
    "colors=[\"Red\",\"blue\",\"pink\",\"yellow\",\"black\"]\n",
    "colors[1]=\"Lavender\"\n",
    "colors[2]=\"Green\"\n",
    "print(colors)"
   ]
  },
  {
   "cell_type": "code",
   "execution_count": 6,
   "id": "c59e616e-205b-419c-b4c4-25ac76da0852",
   "metadata": {},
   "outputs": [
    {
     "name": "stdout",
     "output_type": "stream",
     "text": [
      "['Red', 'Orange', 'blue', 'pink', 'yellow', 'black', 'White']\n"
     ]
    }
   ],
   "source": [
    "#Common list operations-01\n",
    "colors=[\"Red\",\"blue\",\"pink\",\"yellow\",\"black\"]\n",
    "colors.append(\"White\")\n",
    "colors.insert(1,\"Orange\")\n",
    "print(colors)"
   ]
  },
  {
   "cell_type": "code",
   "execution_count": 5,
   "id": "323e5569-c475-4aa4-b0bd-008cbe7deae9",
   "metadata": {},
   "outputs": [
    {
     "name": "stdout",
     "output_type": "stream",
     "text": [
      "['Red', 'blue', 'pink', 'yellow']\n"
     ]
    }
   ],
   "source": [
    "#Common list operations-02\n",
    "colors=[\"Red\",\"blue\",\"pink\",\"yellow\",\"black\"]\n",
    "colors.pop()\n",
    "print(colors)"
   ]
  },
  {
   "cell_type": "code",
   "execution_count": 4,
   "id": "f7cca1d2-53a0-4cbf-ac0d-55811779acb5",
   "metadata": {},
   "outputs": [
    {
     "name": "stdout",
     "output_type": "stream",
     "text": [
      "['blue', 'pink', 'yellow', 'black']\n"
     ]
    }
   ],
   "source": [
    "#Common list operations-03\n",
    "colors=[\"Red\",\"blue\",\"pink\",\"yellow\",\"black\"]\n",
    "colors.remove(\"Red\")\n",
    "print(colors)"
   ]
  },
  {
   "cell_type": "code",
   "execution_count": 7,
   "id": "64d6335d-3eaa-4d74-a850-c66ef7077ec5",
   "metadata": {},
   "outputs": [
    {
     "name": "stdout",
     "output_type": "stream",
     "text": [
      "5\n",
      "4\n"
     ]
    }
   ],
   "source": [
    "#Common list operations-04\n",
    "colors=[\"Red\",\"blue\",\"pink\",\"yellow\",\"black\"]\n",
    "combined_list=[140,80.9,\"Ranjana\",True]\n",
    "print(len(colors))\n",
    "print(len(combined_list))"
   ]
  },
  {
   "cell_type": "code",
   "execution_count": 8,
   "id": "a2020cae-3d07-4300-9392-8304b522fe25",
   "metadata": {},
   "outputs": [
    {
     "name": "stdout",
     "output_type": "stream",
     "text": [
      "5\n",
      "98\n",
      "[5, 20, 25, 34, 98]\n",
      "[98, 34, 25, 20, 5]\n"
     ]
    }
   ],
   "source": [
    "#Build-in functions in list\n",
    "a=[5,34,98,20,25]\n",
    "print(min(a))\n",
    "print(max(a))\n",
    "a.sort()\n",
    "print(a)\n",
    "a.reverse()\n",
    "print(a)"
   ]
  },
  {
   "cell_type": "code",
   "execution_count": 9,
   "id": "45a22aa5-5e85-4075-9805-d6acb94d038b",
   "metadata": {},
   "outputs": [
    {
     "name": "stdout",
     "output_type": "stream",
     "text": [
      "Red\n",
      "blue\n",
      "pink\n",
      "yellow\n",
      "black\n"
     ]
    }
   ],
   "source": [
    "#Looping in list\n",
    "colors=[\"Red\",\"blue\",\"pink\",\"yellow\",\"black\"]\n",
    "for i in colors:\n",
    "    print(i)"
   ]
  },
  {
   "cell_type": "code",
   "execution_count": 10,
   "id": "7a311d51-3f7c-4a2b-982b-fd1b7bdc3cbf",
   "metadata": {},
   "outputs": [
    {
     "name": "stdout",
     "output_type": "stream",
     "text": [
      "[5, 34]\n",
      "[25, 20, 98, 34, 5]\n"
     ]
    }
   ],
   "source": [
    "#List slicing\n",
    "a=[5,34,98,20,25]\n",
    "print(a[0:2])\n",
    "print(a[::-1])"
   ]
  },
  {
   "cell_type": "code",
   "execution_count": 11,
   "id": "3be0b520-b027-4711-afff-19d9768abdac",
   "metadata": {},
   "outputs": [
    {
     "name": "stdout",
     "output_type": "stream",
     "text": [
      "[1, 4, 9, 16, 25]\n"
     ]
    }
   ],
   "source": [
    "#Square of a number from ranges 1 to 5\n",
    "s=[n**2 for n in range(1,6)]\n",
    "print(s)"
   ]
  },
  {
   "cell_type": "code",
   "execution_count": 12,
   "id": "a1bedf73-e7df-41af-9362-91fd38a43ae0",
   "metadata": {},
   "outputs": [
    {
     "name": "stdout",
     "output_type": "stream",
     "text": [
      "[25, 4, 16, 49, 64]\n"
     ]
    }
   ],
   "source": [
    "#Square of numbers\n",
    "l1=[5,2,4,7,8]\n",
    "s=[n**2 for n in l1]\n",
    "print(s)"
   ]
  },
  {
   "cell_type": "code",
   "execution_count": 13,
   "id": "01514d83-c908-4c29-849a-d152fa3a1a51",
   "metadata": {},
   "outputs": [
    {
     "name": "stdout",
     "output_type": "stream",
     "text": [
      "3\n"
     ]
    }
   ],
   "source": [
    "\n",
    "#Count how many numbers are even in the list\n",
    "z=[3,8,9,10,45,22]\n",
    "w=0\n",
    "for n in z:\n",
    "    if n%2==0:\n",
    "        w+=1\n",
    "print(w)"
   ]
  },
  {
   "cell_type": "code",
   "execution_count": 27,
   "id": "335dd0b2-1776-4dec-baeb-1e187e976946",
   "metadata": {},
   "outputs": [
    {
     "name": "stdout",
     "output_type": "stream",
     "text": [
      "ranjana\n",
      "sureka\n",
      "alfiya\n",
      "kaniga\n",
      "['ranjana', 'alshifa', 'sureka', 'alfiya', 'kaniga']\n",
      "['alshifa', 'sureka', 'alfiya', 'kaniga']\n",
      "['alfiya', 'alshifa', 'kaniga', 'sureka']\n",
      "alfiya\n",
      "alshifa\n",
      "kaniga\n",
      "sureka\n"
     ]
    },
    {
     "name": "stdin",
     "output_type": "stream",
     "text": [
      "Enter the name: ranjana\n"
     ]
    },
    {
     "name": "stdout",
     "output_type": "stream",
     "text": [
      "The name is not present in the list\n"
     ]
    }
   ],
   "source": [
    "#Exercise 1\n",
    "student=[]\n",
    "student.append(\"ranjana\")\n",
    "student.append(\"sureka\")\n",
    "student.append(\"alfiya\")\n",
    "student.append(\"kaniga\")\n",
    "for i in student:\n",
    "    print(i)\n",
    "student.insert(1,\"alshifa\")\n",
    "print(student)\n",
    "student.remove(\"ranjana\")\n",
    "print(student)\n",
    "student.sort()\n",
    "print(student)\n",
    "for i in student:\n",
    "    print(i)\n",
    "a=input(\"Enter the name:\")\n",
    "if a in student:\n",
    "    print(\"The name is present in the list\")\n",
    "else:\n",
    "    print(\"The name is not present in the list\")"
   ]
  },
  {
   "cell_type": "code",
   "execution_count": 30,
   "id": "22cdd851-3552-49d5-9859-5dced068b5a7",
   "metadata": {},
   "outputs": [
    {
     "name": "stdout",
     "output_type": "stream",
     "text": [
      "{2, 5, 6, 9, 10}\n",
      "{'Alfiya', 'Sureka', 'Ranjana'}\n"
     ]
    }
   ],
   "source": [
    "#Removing duplicates from the list\n",
    "x=[2,5,6,9,5,2,10,10,10,10]\n",
    "y=[\"Alfiya\",\"Ranjana\",\"Sureka\",\"Ranjana\"]\n",
    "print(set(x))\n",
    "print(set(y))"
   ]
  }
 ],
 "metadata": {
  "kernelspec": {
   "display_name": "Python 3 (ipykernel)",
   "language": "python",
   "name": "python3"
  },
  "language_info": {
   "codemirror_mode": {
    "name": "ipython",
    "version": 3
   },
   "file_extension": ".py",
   "mimetype": "text/x-python",
   "name": "python",
   "nbconvert_exporter": "python",
   "pygments_lexer": "ipython3",
   "version": "3.13.7"
  }
 },
 "nbformat": 4,
 "nbformat_minor": 5
}
