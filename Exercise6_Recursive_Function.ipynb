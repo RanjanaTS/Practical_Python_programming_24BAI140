{
 "cells": [
  {
   "cell_type": "code",
   "execution_count": 1,
   "id": "0013a934-1f34-4303-9690-783318b34203",
   "metadata": {},
   "outputs": [
    {
     "name": "stdin",
     "output_type": "stream",
     "text": [
      "Enter a number: 6\n"
     ]
    },
    {
     "name": "stdout",
     "output_type": "stream",
     "text": [
      "The factorial of 6 is 720\n"
     ]
    }
   ],
   "source": [
    "#Factorial of a number\n",
    "def factorial(n):\n",
    "    if n==0 or n==1:\n",
    "        return 1\n",
    "    else:\n",
    "        return n*factorial(n-1)\n",
    "num=int(input(\"Enter a number:\"))\n",
    "if  num<0:\n",
    "    print(\"Factorial does not exist for negative numbers\")\n",
    "else:\n",
    "    print(f\"The factorial of {num} is {factorial(num)}\")"
   ]
  },
  {
   "cell_type": "code",
   "execution_count": 4,
   "id": "55ab4310-3cb8-404b-9c9e-bf6497affb58",
   "metadata": {},
   "outputs": [
    {
     "name": "stdin",
     "output_type": "stream",
     "text": [
      "Enter a position (n) in fibonacci series: 5\n"
     ]
    },
    {
     "name": "stdout",
     "output_type": "stream",
     "text": [
      "The 5th Fibonacci number is 5\n"
     ]
    }
   ],
   "source": [
    "#Fibonacci Series(nth term)\n",
    "def fibonacci(n):\n",
    "    if n<=1:\n",
    "        return n\n",
    "    else:\n",
    "        return fibonacci(n-1)+fibonacci(n-2)\n",
    "num=int(input(\"Enter a position (n) in fibonacci series:\"))\n",
    "if num<0:\n",
    "    print(\"Fibonacci number does not exist for negative index\")\n",
    "else:\n",
    "    print(f\"The {num}th Fibonacci number is {fibonacci(num)}\")"
   ]
  },
  {
   "cell_type": "code",
   "execution_count": 6,
   "id": "59f989a8-5dfc-4075-8ce8-faf7538b7865",
   "metadata": {},
   "outputs": [
    {
     "name": "stdin",
     "output_type": "stream",
     "text": [
      "Enter a string: refer\n"
     ]
    },
    {
     "name": "stdout",
     "output_type": "stream",
     "text": [
      "The string is a palindrome\n"
     ]
    }
   ],
   "source": [
    "#Check if a string is a palindrome or not\n",
    "def is_palindrome(s):\n",
    "    if len(s)<=1:\n",
    "        return True\n",
    "    elif s[0]!=s[-1]:\n",
    "        return False\n",
    "    else:\n",
    "        return is_palindrome(s[1:-1])\n",
    "text=input(\"Enter a string:\")\n",
    "if is_palindrome(text):\n",
    "    print(\"The string is a palindrome\")\n",
    "else:\n",
    "    print(\"The string is not a palindrome\")"
   ]
  }
 ],
 "metadata": {
  "kernelspec": {
   "display_name": "Python 3 (ipykernel)",
   "language": "python",
   "name": "python3"
  },
  "language_info": {
   "codemirror_mode": {
    "name": "ipython",
    "version": 3
   },
   "file_extension": ".py",
   "mimetype": "text/x-python",
   "name": "python",
   "nbconvert_exporter": "python",
   "pygments_lexer": "ipython3",
   "version": "3.13.7"
  }
 },
 "nbformat": 4,
 "nbformat_minor": 5
}
