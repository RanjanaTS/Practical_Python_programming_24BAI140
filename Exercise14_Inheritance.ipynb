{
 "cells": [
  {
   "cell_type": "code",
   "execution_count": 11,
   "id": "b894c775-347e-4cf9-82d3-8bf02fd35963",
   "metadata": {},
   "outputs": [
    {
     "name": "stdout",
     "output_type": "stream",
     "text": [
      "The title is The Book\n",
      "The price is 500\n",
      "The name of the author is The Author\n",
      "The number of copies is 55\n"
     ]
    }
   ],
   "source": [
    "# Multiple inheritance\n",
    "\n",
    "# library management details\n",
    "class Book:\n",
    "    def __init__(self, title, price):\n",
    "        self.title = title\n",
    "        self.price = price\n",
    "\n",
    "    def show(self):\n",
    "        print(\"The title is\", self.title)\n",
    "        print(\"The price is\", self.price)\n",
    "\n",
    "\n",
    "class Author:\n",
    "    def __init__(self, name):\n",
    "        self.name = name\n",
    "\n",
    "    def showauthor(self):\n",
    "        print(\"The name of the author is\", self.name)\n",
    "\n",
    "\n",
    "class Library(Book, Author):\n",
    "    def __init__(self, title, price, name, copy):\n",
    "        Book.__init__(self, title, price)\n",
    "        Author.__init__(self, name)\n",
    "        self.copy = copy\n",
    "\n",
    "    def display(self):\n",
    "        self.show()\n",
    "        self.showauthor()\n",
    "        print(\"The number of copies is\", self.copy)\n",
    "\n",
    "\n",
    "# creating object and displaying details\n",
    "c = Library(\"The Book\", 500, \"The Author\", 55)\n",
    "c.display()\n"
   ]
  },
  {
   "cell_type": "code",
   "execution_count": 12,
   "id": "fd996c63-22a2-40a6-893f-2a1527a897a7",
   "metadata": {},
   "outputs": [
    {
     "name": "stdout",
     "output_type": "stream",
     "text": [
      "Circle Area: 78.54\n",
      "Rectangle Area: 24.00\n",
      "Triangle Area: 10.50\n"
     ]
    }
   ],
   "source": [
    "#Hierarchical inheritance\n",
    "\n",
    "import math\n",
    "# shape area calculation\n",
    "class Shape:\n",
    "    def area(self):\n",
    "        raise NotImplementedError(\"Subclasses must implement this method\")\n",
    "\n",
    "class Circle(Shape):\n",
    "    def __init__(self, radius):\n",
    "        self.radius = radius\n",
    "\n",
    "    def area(self):\n",
    "        return math.pi * self.radius ** 2\n",
    "\n",
    "class Rectangle(Shape):\n",
    "    def __init__(self, width, height):\n",
    "        self.width = width\n",
    "        self.height = height\n",
    "\n",
    "    def area(self):\n",
    "        return self.width * self.height\n",
    "\n",
    "class Triangle(Shape):\n",
    "    def __init__(self, base, height):\n",
    "        self.base = base\n",
    "        self.height = height\n",
    "\n",
    "    def area(self):\n",
    "        return 0.5 * self.base * self.height\n",
    "\n",
    "# creating objects for different shapes\n",
    "shapes = [\n",
    "    Circle(radius=5),\n",
    "    Rectangle(width=4, height=6),\n",
    "    Triangle(base=3, height=7)\n",
    "]\n",
    "\n",
    "# displaying results\n",
    "for shape in shapes:\n",
    "    print(f\"{shape.__class__.__name__} Area: {shape.area():.2f}\")\n"
   ]
  },
  {
   "cell_type": "code",
   "execution_count": 14,
   "id": "64b8b10d-515f-4932-b39d-848f7400ba50",
   "metadata": {},
   "outputs": [
    {
     "name": "stdout",
     "output_type": "stream",
     "text": [
      "Comet : 800000\n",
      "Comet : 800000 : 250\n"
     ]
    }
   ],
   "source": [
    "# Single inheritance\n",
    "\n",
    "class car:\n",
    "    def __init__(self, car_model, price):\n",
    "        self.car_model = car_model\n",
    "        self.price = price\n",
    "\n",
    "    def show(self):\n",
    "        print(f\"{self.car_model} : {self.price}\")\n",
    "\n",
    "class electriccar(car):\n",
    "    def __init__(self, car_model, price, bat_capacity):\n",
    "        super().__init__(car_model, price)\n",
    "        self.bat_capacity = bat_capacity\n",
    "\n",
    "    def display(self):\n",
    "        print(f\"{self.car_model} : {self.price} : {self.bat_capacity}\")\n",
    "\n",
    "# creating object\n",
    "vehicle = electriccar(\"Comet\", 800000, 250)\n",
    "vehicle.show()\n",
    "vehicle.display()\n"
   ]
  },
  {
   "cell_type": "code",
   "execution_count": 21,
   "id": "c91bcb0d-2226-43db-b54f-dc4b73b0ef78",
   "metadata": {},
   "outputs": [
    {
     "name": "stdout",
     "output_type": "stream",
     "text": [
      "Company Name: TechNova Pvt Ltd\n",
      "Department Name: Research and Development\n",
      "Employee Name: Shiva\n"
     ]
    }
   ],
   "source": [
    "# Multilevel inheritance\n",
    "\n",
    "class Company:\n",
    "    def __init__(self, company_name):\n",
    "        self.company_name = company_name\n",
    "\n",
    "    def show_company(self):\n",
    "        print(\"Company Name:\", self.company_name)\n",
    "\n",
    "\n",
    "class Department(Company):\n",
    "    def __init__(self, company_name, department_name):\n",
    "        super().__init__(company_name)\n",
    "        self.department_name = department_name\n",
    "\n",
    "    def show_department(self):\n",
    "        print(\"Department Name:\", self.department_name)\n",
    "\n",
    "\n",
    "class Employee(Department):\n",
    "    def __init__(self, company_name, department_name, employee_name):\n",
    "        super().__init__(company_name, department_name)\n",
    "        self.employee_name = employee_name\n",
    "\n",
    "    def show_employee(self):\n",
    "        print(\"Employee Name:\", self.employee_name)\n",
    "\n",
    "\n",
    "# Creating object\n",
    "emp = Employee(\"TechNova Pvt Ltd\", \"Research and Development\", \"Shiva\")\n",
    "\n",
    "# Display information\n",
    "emp.show_company()\n",
    "emp.show_department()\n",
    "emp.show_employee()\n"
   ]
  },
  {
   "cell_type": "code",
   "execution_count": 19,
   "id": "392e5fe1-1c23-435c-bbc8-59b46b9ac374",
   "metadata": {},
   "outputs": [
    {
     "name": "stdout",
     "output_type": "stream",
     "text": [
      "Student Name: Krishna\n",
      "Marks: 92\n",
      "Sport Name: Badminton\n"
     ]
    }
   ],
   "source": [
    "# Hybrid inheritance\n",
    "\n",
    "class Student:\n",
    "    def __init__(self, name):\n",
    "        self.name = name\n",
    "\n",
    "    def show_student(self):\n",
    "        print(\"Student Name:\", self.name)\n",
    "\n",
    "class Marks(Student):\n",
    "    def __init__(self, name, marks):\n",
    "        super().__init__(name)\n",
    "        self.marks = marks\n",
    "\n",
    "    def show_marks(self):\n",
    "        print(\"Marks:\", self.marks)\n",
    "\n",
    "class Sports:\n",
    "    def __init__(self, sport_name):\n",
    "        self.sport_name = sport_name\n",
    "\n",
    "    def show_sport(self):\n",
    "        print(\"Sport Name:\", self.sport_name)\n",
    "\n",
    "class Result(Marks, Sports):\n",
    "    def __init__(self, name, marks, sport_name):\n",
    "        Marks.__init__(self, name, marks)\n",
    "        Sports.__init__(self, sport_name)\n",
    "\n",
    "    def display(self):\n",
    "        self.show_student()\n",
    "        self.show_marks()\n",
    "        self.show_sport()\n",
    "\n",
    "# creating object\n",
    "r = Result(\"Krishna\", 92, \"Badminton\")\n",
    "r.display()\n"
   ]
  }
 ],
 "metadata": {
  "kernelspec": {
   "display_name": "Python 3 (ipykernel)",
   "language": "python",
   "name": "python3"
  },
  "language_info": {
   "codemirror_mode": {
    "name": "ipython",
    "version": 3
   },
   "file_extension": ".py",
   "mimetype": "text/x-python",
   "name": "python",
   "nbconvert_exporter": "python",
   "pygments_lexer": "ipython3",
   "version": "3.13.7"
  }
 },
 "nbformat": 4,
 "nbformat_minor": 5
}
