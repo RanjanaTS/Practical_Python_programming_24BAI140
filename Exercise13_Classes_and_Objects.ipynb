{
 "cells": [
  {
   "cell_type": "code",
   "execution_count": 2,
   "id": "f11dd055-42d3-4407-89a0-4ffa91550388",
   "metadata": {},
   "outputs": [
    {
     "name": "stdout",
     "output_type": "stream",
     "text": [
      "Welcome\n",
      "Welcome\n"
     ]
    }
   ],
   "source": [
    "#class and object example 01\n",
    "class student1:\n",
    "    def show(self):\n",
    "        print(\"Welcome\")\n",
    "d=student1()\n",
    "d.show()\n",
    "d.show()"
   ]
  },
  {
   "cell_type": "code",
   "execution_count": 3,
   "id": "483d07ee-c538-4893-88f1-e22afa62444e",
   "metadata": {},
   "outputs": [
    {
     "name": "stdout",
     "output_type": "stream",
     "text": [
      "10\n"
     ]
    }
   ],
   "source": [
    "#class and object example 02\n",
    "class sum:\n",
    "    def add(self,a,b):\n",
    "        print(a+b)\n",
    "s=sum()\n",
    "s.add(6,4)"
   ]
  },
  {
   "cell_type": "code",
   "execution_count": 5,
   "id": "c1f6a1c7-6053-44e7-8444-66b323cc98b8",
   "metadata": {},
   "outputs": [
    {
     "name": "stdout",
     "output_type": "stream",
     "text": [
      "Name: krishna\n",
      "Grade: 0\n",
      "Name: Shiva\n",
      "Grade: A+\n"
     ]
    }
   ],
   "source": [
    "#student details\n",
    "class student:\n",
    "    def __init__(self, name, grade):\n",
    "        self.name=name\n",
    "        self.grade=grade\n",
    "    def display(self):\n",
    "        print(\"Name:\", self.name)\n",
    "        print(\"Grade:\", self.grade)\n",
    "s1=student(\"krishna\",\"0\")\n",
    "s1.display()\n",
    "s2=student(\"Shiva\", \"A+\")\n",
    "s2.display()"
   ]
  },
  {
   "cell_type": "code",
   "execution_count": 5,
   "id": "2fdf6a7f-7ee9-4abb-9e75-62af36645eb6",
   "metadata": {},
   "outputs": [
    {
     "name": "stdout",
     "output_type": "stream",
     "text": [
      "Name: Ranjana\n",
      "Roll Number: 140\n",
      "Marks: [90, 96, 92, 77, 70, 87]\n",
      "Average: 85.33333333333333\n",
      "Grade: B\n"
     ]
    }
   ],
   "source": [
    "#student grade details\n",
    "class student:\n",
    "    def __init__(self,name, rollno, marks):\n",
    "        self.name=name\n",
    "        self.rollno=rollno\n",
    "        self.marks=marks\n",
    "    def display(self):\n",
    "        print(\"Name:\", self.name) \n",
    "        print(\"Roll Number:\", self.rollno) \n",
    "        print(\"Marks:\", self.marks)\n",
    "    def average(self): \n",
    "        return sum(self.marks)/len(self.marks)\n",
    "    def grade(self):\n",
    "        avg=self.average()\n",
    "        if avg>=90:\n",
    "            return \"A\"\n",
    "        elif avg>=75 and avg<90:\n",
    "            return \"B\"\n",
    "        elif avg>=65 and avg<75:\n",
    "            return \"C\"\n",
    "        else:\n",
    "            return \"D\"\n",
    "s1=student(\"Ranjana\", 140, [90,96,92,77,70,87])\n",
    "s1.display()\n",
    "print(\"Average:\", s1.average()) \n",
    "print(\"Grade:\", s1.grade())"
   ]
  },
  {
   "cell_type": "code",
   "execution_count": 3,
   "id": "ab1458f2-25b0-4e75-9788-b8f1ddcb9406",
   "metadata": {},
   "outputs": [
    {
     "name": "stdout",
     "output_type": "stream",
     "text": [
      "Account Holder: Ranjana\n",
      "Current Balance: 1000\n",
      "Deposit: 2000, New Balance: 3000\n",
      "Withdraw: 1000, New Balance: 2000\n",
      "Deposit: 4000, New Balance: 6000\n",
      "Withdraw: 2000, New Balance: 4000\n",
      "\n",
      "Final Account Summary:\n",
      "Account Holder: Ranjana\n",
      "Current Balance: 4000\n"
     ]
    }
   ],
   "source": [
    "# bank account details\n",
    "class bank_account:\n",
    "    def __init__(self, account_holder, balance=0):\n",
    "        self.account_holder = account_holder\n",
    "        self.balance = balance\n",
    "\n",
    "    def deposit(self, amount):\n",
    "        if amount > 0:\n",
    "            self.balance += amount\n",
    "            print(f\"Deposit: {amount}, New Balance: {self.balance}\")\n",
    "        else:\n",
    "            print(\"Invalid deposit amount\")\n",
    "\n",
    "    def withdraw(self, amount):\n",
    "        if amount <= 0:\n",
    "            print(\"Invalid withdrawal amount\")\n",
    "        elif self.balance >= amount:\n",
    "            self.balance -= amount\n",
    "            print(f\"Withdraw: {amount}, New Balance: {self.balance}\")\n",
    "        else:\n",
    "            print(\"Insufficient Balance\")\n",
    "\n",
    "    def display(self):\n",
    "        print(f\"Account Holder: {self.account_holder}\")\n",
    "        print(f\"Current Balance: {self.balance}\")\n",
    "\n",
    "# creating an object\n",
    "account = bank_account(\"Ranjana\", 1000)\n",
    "\n",
    "# performing transactions\n",
    "account.display()\n",
    "account.deposit(2000)\n",
    "account.withdraw(1000)\n",
    "account.deposit(4000)\n",
    "account.withdraw(2000)\n",
    "\n",
    "# final account status\n",
    "print(\"\\nFinal Account Summary:\")\n",
    "account.display()\n"
   ]
  }
 ],
 "metadata": {
  "kernelspec": {
   "display_name": "Python 3 (ipykernel)",
   "language": "python",
   "name": "python3"
  },
  "language_info": {
   "codemirror_mode": {
    "name": "ipython",
    "version": 3
   },
   "file_extension": ".py",
   "mimetype": "text/x-python",
   "name": "python",
   "nbconvert_exporter": "python",
   "pygments_lexer": "ipython3",
   "version": "3.13.7"
  }
 },
 "nbformat": 4,
 "nbformat_minor": 5
}
