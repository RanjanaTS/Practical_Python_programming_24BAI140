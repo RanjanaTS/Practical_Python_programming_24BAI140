{
 "cells": [
  {
   "cell_type": "code",
   "execution_count": 2,
   "id": "8a15857a-4df8-4b26-94e9-c0a8134cc6e5",
   "metadata": {},
   "outputs": [
    {
     "name": "stdout",
     "output_type": "stream",
     "text": [
      "original tuple: (1, 9, 3, 4, 0, 7)\n",
      "modified tuple: (1, 2, 3, 4, 5, 6)\n",
      "modified tuple: (1, 2, 3, 4, 5, 6, 7)\n",
      "modified tuple: (0, 1, 2, 3, 4, 5, 6, 7)\n"
     ]
    }
   ],
   "source": [
    "#tuple is immutable \n",
    "#but there is a way to change elements of tuple\n",
    "t=(1,9,3,4,0,7)\n",
    "print(\"original tuple:\", t)\n",
    "t=t[:1]+(2,)+t[2:]\n",
    "t=t[:4]+(5,)+t[5:]\n",
    "t=t[:5]+(6,)+t[6:]\n",
    "print(\"modified tuple:\",t)\n",
    "t=t[:6]+(7,)\n",
    "print(\"modified tuple:\", t)\n",
    "t=(0,)+t[0:]\n",
    "print(\"modified tuple:\", t)"
   ]
  },
  {
   "cell_type": "code",
   "execution_count": 3,
   "id": "6df68f25-3102-486d-ac13-b76b126569cc",
   "metadata": {},
   "outputs": [
    {
     "name": "stdout",
     "output_type": "stream",
     "text": [
      "1 6\n"
     ]
    }
   ],
   "source": [
    "#we can swap a numbers using tuple\n",
    "x=6\n",
    "y=1\n",
    "x,y=y,x\n",
    "print(x,y)"
   ]
  },
  {
   "cell_type": "code",
   "execution_count": 4,
   "id": "3b9e0319-db46-4ed6-8d26-f6e858ef00ce",
   "metadata": {},
   "outputs": [
    {
     "name": "stdout",
     "output_type": "stream",
     "text": [
      "[('sai', 20), ('ranjana', 18), ('akshaya', 22)]\n",
      "[('ranjana', 18), ('sai', 20), ('akshaya', 22)]\n",
      "[('akshaya', 22), ('ranjana', 18), ('sai', 20)]\n"
     ]
    }
   ],
   "source": [
    "student=[(\"sai\",20),(\"ranjana\",18),(\"akshaya\",22)]\n",
    "print(student)\n",
    "#sort elemets by second element\n",
    "sortt=sorted(student,key=lambda x:x[1])\n",
    "print(sortt)\n",
    "sortt2=sorted(student,key=lambda x:x[0])\n",
    "print(sortt2)"
   ]
  },
  {
   "cell_type": "code",
   "execution_count": 5,
   "id": "0edb0e72-65a9-4f18-a3d0-9fe36fe9115b",
   "metadata": {},
   "outputs": [
    {
     "name": "stdout",
     "output_type": "stream",
     "text": [
      "(1, 2, 3, 4, 5, 6, 7)\n",
      "(1, 2, 3)\n",
      "(7, 6, 5, 4, 3, 2, 1)\n"
     ]
    }
   ],
   "source": [
    "#tuple slicing\n",
    "n=(1,2,3,4,5,6,7)\n",
    "print(n[0:])\n",
    "print(n[:3])\n",
    "print(n[::-1])"
   ]
  },
  {
   "cell_type": "code",
   "execution_count": 6,
   "id": "a31928d3-1e43-4d9e-bfcf-a01a3ceeb713",
   "metadata": {},
   "outputs": [
    {
     "name": "stdout",
     "output_type": "stream",
     "text": [
      "3\n",
      "foot ball\n",
      "cricket\n",
      "volley ball\n",
      "throw ball\n",
      "foot ball\n",
      "cricket\n",
      "volley ball\n",
      "throw ball\n"
     ]
    }
   ],
   "source": [
    "#count no of elements in  the tuple\n",
    "t=(1,2,3,4,5,6,7,2,2)\n",
    "c=t.count(2)\n",
    "print(c)\n",
    "sports=(\"foot ball\",\"cricket\",\"volley ball\",\"throw ball\")\n",
    "for i in sports:\n",
    "    print(i)\n",
    "for i in range(len(sports)):\n",
    "    print(sports[i])"
   ]
  },
  {
   "cell_type": "code",
   "execution_count": 8,
   "id": "da64302e-7429-4931-b51a-e0980ee2952e",
   "metadata": {},
   "outputs": [
    {
     "name": "stdout",
     "output_type": "stream",
     "text": [
      "140 ranjana 18\n"
     ]
    }
   ],
   "source": [
    "#Tuple unpacking\n",
    "data=(140,\"ranjana\",18)\n",
    "rollno,name,age=data\n",
    "print(rollno,name,age)"
   ]
  },
  {
   "cell_type": "code",
   "execution_count": 9,
   "id": "daab5fce-a36d-4e29-8cce-244c61580272",
   "metadata": {},
   "outputs": [
    {
     "name": "stdout",
     "output_type": "stream",
     "text": [
      "[1, 2, 3] (4, 5, 6)\n",
      "[4, 5, 6] (1, 2, 3)\n"
     ]
    }
   ],
   "source": [
    "l=[1,2,3]\n",
    "t=(4,5,6)\n",
    "print(l,t)\n",
    "print(list(t),tuple(l))"
   ]
  }
 ],
 "metadata": {
  "kernelspec": {
   "display_name": "Python 3 (ipykernel)",
   "language": "python",
   "name": "python3"
  },
  "language_info": {
   "codemirror_mode": {
    "name": "ipython",
    "version": 3
   },
   "file_extension": ".py",
   "mimetype": "text/x-python",
   "name": "python",
   "nbconvert_exporter": "python",
   "pygments_lexer": "ipython3",
   "version": "3.13.7"
  }
 },
 "nbformat": 4,
 "nbformat_minor": 5
}
