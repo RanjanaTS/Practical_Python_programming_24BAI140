{
 "cells": [
  {
   "cell_type": "code",
   "execution_count": 4,
   "id": "c2a0c113-f135-4361-931c-41341b818462",
   "metadata": {},
   "outputs": [
    {
     "name": "stdout",
     "output_type": "stream",
     "text": [
      "file created and written succesfully\n",
      "artificial intelligence and machine learning.\n",
      "file readed succesfully\n"
     ]
    }
   ],
   "source": [
    "#create and write to a file\n",
    "with open(\"aiml.txt\",\"w\") as file:\n",
    "    file.write(\"artificial intelligence and machine learning.\") \n",
    "print(\"file created and written succesfully\")\n",
    "\n",
    "with open(\"aiml.txt\",\"r\") as file: \n",
    "    data=file.read() \n",
    "    print(data)\n",
    "print(\"file readed succesfully\")"
   ]
  },
  {
   "cell_type": "code",
   "execution_count": 3,
   "id": "73de34bf-f353-4593-9498-7b9224b46272",
   "metadata": {},
   "outputs": [
    {
     "name": "stdout",
     "output_type": "stream",
     "text": [
      "Python is a high-level, interpreted, interactive, and object-oriented programming language. It was created by Guido van Rossum and first released in 1991. Python is known for its clear and readable syntax, which emphasizes code readability and reduces the cost of program maintenance. \n"
     ]
    }
   ],
   "source": [
    "#Opening the existing file\n",
    "file=open(\"simple.txt\",\"r\")\n",
    "print(file.read())\n",
    "file.close()"
   ]
  },
  {
   "cell_type": "code",
   "execution_count": 5,
   "id": "5825209c-2866-481e-bbdf-640ed2914480",
   "metadata": {},
   "outputs": [
    {
     "name": "stdout",
     "output_type": "stream",
     "text": [
      "data append to file succesfully\n",
      "artificial intelligence and machine learning.python programming language.it can perform file operations.\n",
      "file readed succesfully\n"
     ]
    }
   ],
   "source": [
    "#append data to a file\n",
    "with open(\"aiml.txt\",\"a\") as file:\n",
    "    file.write(\"python programming language.\")\n",
    "    file.write(\"it can perform file operations.\")\n",
    "print(\"data append to file succesfully\")\n",
    "\n",
    "with open(\"aiml.txt\",\"r\") as file:\n",
    "    data=file.read()\n",
    "    print(data)\n",
    "print(\"file readed succesfully\")"
   ]
  }
 ],
 "metadata": {
  "kernelspec": {
   "display_name": "Python 3 (ipykernel)",
   "language": "python",
   "name": "python3"
  },
  "language_info": {
   "codemirror_mode": {
    "name": "ipython",
    "version": 3
   },
   "file_extension": ".py",
   "mimetype": "text/x-python",
   "name": "python",
   "nbconvert_exporter": "python",
   "pygments_lexer": "ipython3",
   "version": "3.13.7"
  }
 },
 "nbformat": 4,
 "nbformat_minor": 5
}
