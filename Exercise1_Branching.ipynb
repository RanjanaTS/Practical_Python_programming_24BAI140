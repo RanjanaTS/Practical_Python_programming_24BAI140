{
 "cells": [
  {
   "cell_type": "code",
   "execution_count": 7,
   "id": "2b37477b-1c57-4e54-b5ed-0e648b1e159c",
   "metadata": {},
   "outputs": [
    {
     "name": "stdin",
     "output_type": "stream",
     "text": [
      "Enter num1: 7\n",
      "Enter num2: 3\n"
     ]
    },
    {
     "name": "stdout",
     "output_type": "stream",
     "text": [
      "7  is greater than  3\n"
     ]
    }
   ],
   "source": [
    "#Comparision of Two numbers\n",
    "a=int(input(\"Enter num1:\"))\n",
    "b=int(input(\"Enter num2:\"))\n",
    "if a>b:\n",
    "    print(a,\" is greater than \",b)\n",
    "elif b>a:\n",
    "    print(b,\" is greater than \",a)\n",
    "else:\n",
    "    print(a,\" is equal to \",b)"
   ]
  },
  {
   "cell_type": "code",
   "execution_count": 10,
   "id": "6f4be26f-e032-49a9-a9a8-f4d55c624c75",
   "metadata": {},
   "outputs": [
    {
     "name": "stdin",
     "output_type": "stream",
     "text": [
      "Enter a number: 8\n"
     ]
    },
    {
     "name": "stdout",
     "output_type": "stream",
     "text": [
      "The given number is even\n"
     ]
    }
   ],
   "source": [
    "#Check Whether a number is odd or even\n",
    "n=int(input(\"Enter a number:\"))\n",
    "if n%2==0:\n",
    "    print(\"The given number is even\")\n",
    "else:\n",
    "    print(\"The given number is odd\")"
   ]
  },
  {
   "cell_type": "code",
   "execution_count": 11,
   "id": "84306c8b-c725-4a06-a73a-2e588b706f98",
   "metadata": {},
   "outputs": [
    {
     "name": "stdin",
     "output_type": "stream",
     "text": [
      "Enter the year: 2024\n"
     ]
    },
    {
     "name": "stdout",
     "output_type": "stream",
     "text": [
      "It's a leap year\n"
     ]
    }
   ],
   "source": [
    "#Leap-year checker using if-else condition\n",
    "year=int(input(\"Enter the year:\"))\n",
    "if(year%4==0 and year%100!=0)or(year%400==0):\n",
    "    print(\"It's a leap year\")\n",
    "else:\n",
    "    print(\"It's not a leap year\")"
   ]
  },
  {
   "cell_type": "code",
   "execution_count": 18,
   "id": "4ec3d182-cf79-4ed0-b1e7-7aa60942f8fa",
   "metadata": {},
   "outputs": [
    {
     "name": "stdin",
     "output_type": "stream",
     "text": [
      "Enter the rollno: 24BAI140\n",
      "Enter the name: Ranjana T S\n",
      "Enter m1: 98\n",
      "Enter m2: 79\n",
      "Enter m3: 80\n",
      "Enter m4: 100\n",
      "Enter m5: 97\n"
     ]
    },
    {
     "name": "stdout",
     "output_type": "stream",
     "text": [
      "Total marks: 454\n",
      "Average marks: 90.8\n",
      "A+ grade\n"
     ]
    }
   ],
   "source": [
    "#To calculate student grade details\n",
    "rollno=input(\"Enter the rollno:\")\n",
    "\n",
    "name=input(\"Enter the name:\")\n",
    "m1=int(input(\"Enter m1:\"))\n",
    "m2=int(input(\"Enter m2:\"))\n",
    "m3=int(input(\"Enter m3:\"))\n",
    "m4=int(input(\"Enter m4:\"))\n",
    "m5=int(input(\"Enter m5:\"))\n",
    "total=m1+m2+m3+m4+m5\n",
    "print(\"Total marks:\",total)\n",
    "avg=total/5\n",
    "print(\"Average marks:\",avg)\n",
    "if avg>=90 and avg<100:\n",
    "    print(\"A+ grade\")\n",
    "elif avg>=80 and avg<90:\n",
    "    print(\"A grade\")\n",
    "elif avg>=70 and avg<80:\n",
    "    print(\"B grade\")\n",
    "elif avg>=60 and avg<70:\n",
    "    print(\"C grade\")\n",
    "elif avg>=50 and avg<60:\n",
    "    print(\"D grade\")\n",
    "elif avg>=40 and avg<50:\n",
    "    print(\"E grade\")\n",
    "elif avg>=35 and avg<40:\n",
    "    print(\"Just pass\")\n",
    "else:\n",
    "    print(\"Fail\")"
   ]
  }
 ],
 "metadata": {
  "kernelspec": {
   "display_name": "Python 3 (ipykernel)",
   "language": "python",
   "name": "python3"
  },
  "language_info": {
   "codemirror_mode": {
    "name": "ipython",
    "version": 3
   },
   "file_extension": ".py",
   "mimetype": "text/x-python",
   "name": "python",
   "nbconvert_exporter": "python",
   "pygments_lexer": "ipython3",
   "version": "3.13.7"
  }
 },
 "nbformat": 4,
 "nbformat_minor": 5
}
