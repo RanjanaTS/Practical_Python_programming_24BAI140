{
 "cells": [
  {
   "cell_type": "code",
   "execution_count": 31,
   "id": "a828a753-ce9b-4505-a2af-4f96a4d3f924",
   "metadata": {},
   "outputs": [
    {
     "name": "stdin",
     "output_type": "stream",
     "text": [
      "Enter the key :  Roll Number\n"
     ]
    },
    {
     "name": "stdout",
     "output_type": "stream",
     "text": [
      "Roll Number  key is not present in the dictionary .\n"
     ]
    }
   ],
   "source": [
    "try:\n",
    "    d={\"Name\": \"Ranjana\",\"Age\": 18}\n",
    "    k=input(\"Enter the key : \")\n",
    "    print(d[k])\n",
    "except KeyError:\n",
    "    print(k,\" key is not present in the dictionary .\")"
   ]
  },
  {
   "cell_type": "code",
   "execution_count": 12,
   "id": "32a06691-3718-4e3b-98e0-814932e67dd9",
   "metadata": {},
   "outputs": [
    {
     "name": "stdin",
     "output_type": "stream",
     "text": [
      "Enter the index :  6\n"
     ]
    },
    {
     "name": "stdout",
     "output_type": "stream",
     "text": [
      "Given index is out of range .\n"
     ]
    }
   ],
   "source": [
    "try:\n",
    "    l=[10,20,30,40,50]\n",
    "    n=int(input(\"Enter the index : \"))\n",
    "    print(l[n])\n",
    "except IndexError:\n",
    "    print(\"Given index is out of range .\")"
   ]
  },
  {
   "cell_type": "code",
   "execution_count": 20,
   "id": "ffd4ae9b-0055-469a-8cf3-93422d89969a",
   "metadata": {},
   "outputs": [
    {
     "name": "stdin",
     "output_type": "stream",
     "text": [
      "enter a number :  -7\n"
     ]
    },
    {
     "name": "stdout",
     "output_type": "stream",
     "text": [
      "Error : Invalid Age ,  Age cannot be Negative\n"
     ]
    }
   ],
   "source": [
    "def check_age(age):\n",
    "    if age<0:\n",
    "        raise ValueError(\"Age cannot be Negative\")\n",
    "    else:\n",
    "        print(\"age is valid\")\n",
    "try:\n",
    "    age=int(input(\"enter a number : \"))\n",
    "    check_age(age)\n",
    "except ValueError as e:\n",
    "    print(\"Error : Invalid Age , \",e)"
   ]
  },
  {
   "cell_type": "code",
   "execution_count": 25,
   "id": "686fe09e-474f-4a77-83b3-bd4d0a1641ba",
   "metadata": {},
   "outputs": [
    {
     "name": "stdin",
     "output_type": "stream",
     "text": [
      "Enter File Name :  hello.txt\n"
     ]
    },
    {
     "name": "stdout",
     "output_type": "stream",
     "text": [
      "Error: The specified file does not exist.\n"
     ]
    }
   ],
   "source": [
    "try:\n",
    "    f=input(\"Enter File Name : \")\n",
    "    with open(f,\"r\")as file:\n",
    "        print(\"Reading the file ...\")\n",
    "        data=file.read()\n",
    "        print(data)\n",
    "except FileNotFoundError:\n",
    "    print(\"Error: The specified file does not exist.\")\n",
    "except Exception as e:\n",
    "    print(\"Error : Common Error\")"
   ]
  },
  {
   "cell_type": "code",
   "execution_count": 30,
   "id": "06ac0080-fbff-43fc-83ea-1e3708b3c886",
   "metadata": {},
   "outputs": [
    {
     "name": "stdin",
     "output_type": "stream",
     "text": [
      "Enter a number :  0\n"
     ]
    },
    {
     "name": "stdout",
     "output_type": "stream",
     "text": [
      "Error : division by zero is not allowed\n",
      "Execution done\n"
     ]
    }
   ],
   "source": [
    "try:\n",
    "    a=int(input(\"Enter a number : \"))\n",
    "    b=10/a\n",
    "except ValueError:\n",
    "    print(\"Error : Invalid value , Enter a number\")\n",
    "except ZeroDivisionError:\n",
    "    print(\"Error : division by zero is not allowed\")\n",
    "else:\n",
    "    print(\"The result is \",b)\n",
    "finally:\n",
    "    print(\"Execution done\")"
   ]
  },
  {
   "cell_type": "code",
   "execution_count": null,
   "id": "8f55f1f7-9b08-4414-92ca-ec51600c1a13",
   "metadata": {},
   "outputs": [],
   "source": []
  }
 ],
 "metadata": {
  "kernelspec": {
   "display_name": "Python 3 (ipykernel)",
   "language": "python",
   "name": "python3"
  },
  "language_info": {
   "codemirror_mode": {
    "name": "ipython",
    "version": 3
   },
   "file_extension": ".py",
   "mimetype": "text/x-python",
   "name": "python",
   "nbconvert_exporter": "python",
   "pygments_lexer": "ipython3",
   "version": "3.13.7"
  }
 },
 "nbformat": 4,
 "nbformat_minor": 5
}
