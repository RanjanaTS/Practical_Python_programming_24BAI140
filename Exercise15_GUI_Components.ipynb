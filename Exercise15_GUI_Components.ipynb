{
 "cells": [
  {
   "cell_type": "code",
   "execution_count": 17,
   "id": "20c4d5f7-95d8-4f47-bf98-00fc37bdc8a5",
   "metadata": {},
   "outputs": [],
   "source": [
    "import tkinter as tk\n",
    "from tkinter import ttk\n",
    "from tkinter import scrolledtext\n",
    "win=tk.Tk() # creating an instance\n",
    "win.title(\"My GUI Page\")\n",
    "win.geometry(\"500x500\")\n",
    "label_name=tk.Label(win, text=\"Enter your Name : \")\n",
    "label_name.pack(anchor=\"w\",pady=5)\n",
    "#entry widget (single line text box)\n",
    "entry_name=tk.Entry(win,width=30)\n",
    "entry_name.pack(anchor=\"w\",pady=5)\n",
    "#lable for text (multiline text box)\n",
    "tk.Label(win,  text=\"enter your address : \").pack(anchor=\"w\",pady=5)\n",
    "#text widget (multi line text box)\n",
    "text_address=tk.Text(win, width=30, height=5)\n",
    "text_address.pack(anchor=\"w\",pady=5)\n",
    "# combo box widget\n",
    "tk.Label(win ,text=\"Choose the country\").pack(anchor=\"w\",pady=5)\n",
    "country=ttk.Combobox(win, values=[\"USA\",\"India\",\"UK\",\"China\",\"Singapore\"],state=\"readonly\").pack(anchor=\"w\",pady=5)\n",
    "#country.current(0)\n",
    "#radio button\n",
    "tk.Label(win, text=\"Select your gender : \").pack(anchor=\"w\",pady=5)\n",
    "#variable to hold selected radio button value\n",
    "gender_var=tk.StringVar(value=\"Male\")\n",
    "tk.Radiobutton(win,text=\"Male\",variable=gender_var,value=\"Male\").pack(anchor=\"w\",pady=5)\n",
    "tk.Radiobutton(win,text=\"Female\",variable=gender_var,value=\"Female\").pack(anchor=\"w\",pady=5)\n",
    "tk.Radiobutton(win,text=\"Other\",variable=gender_var,value=\"Other\").pack(anchor=\"w\",pady=5)\n",
    "\n",
    "#scrolled text\n",
    "text_area=scrolledtext.ScrolledText(win,width=40,height=8,wrap=tk.WORD)\n",
    "text_area.pack(anchor=\"w\")\n",
    "#function to display selected data\n",
    "def submit():\n",
    "    gender=gender_var.get()\n",
    "    comments=text_area.get(\"1.0\",tk.END).strip()\n",
    "    print(f\"Gender : {gender}\\nComments : {comments}\")\n",
    "#submit button\n",
    "tk.Button(win, text=\"submit\",command=submit).pack(pady=15,anchor=\"w\")\n",
    "win.mainloop()"
   ]
  },
  {
   "cell_type": "code",
   "execution_count": 22,
   "id": "e1bd6b34-907f-4d10-927b-403105d74541",
   "metadata": {},
   "outputs": [],
   "source": [
    "import tkinter as tk\n",
    "root=tk.Tk()\n",
    "w=tk.Label(root,text=\"Red Sun\",bg=\"red\",fg=\"white\").pack(pady=5)\n",
    "\n",
    "w=tk.Label(root,text=\"Green Grass\",bg=\"green\",fg=\"black\").pack(pady=5)\n",
    "w=tk.Label(root,text=\"Blue Sky\",bg=\"blue\",fg=\"white\")\n",
    "w.pack()\n",
    "tk.mainloop()"
   ]
  }
 ],
 "metadata": {
  "kernelspec": {
   "display_name": "Python 3 (ipykernel)",
   "language": "python",
   "name": "python3"
  },
  "language_info": {
   "codemirror_mode": {
    "name": "ipython",
    "version": 3
   },
   "file_extension": ".py",
   "mimetype": "text/x-python",
   "name": "python",
   "nbconvert_exporter": "python",
   "pygments_lexer": "ipython3",
   "version": "3.13.7"
  }
 },
 "nbformat": 4,
 "nbformat_minor": 5
}
