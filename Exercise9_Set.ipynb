{
 "cells": [
  {
   "cell_type": "code",
   "execution_count": 1,
   "id": "b66dfaf4-e50e-4d75-b902-0d412877037e",
   "metadata": {},
   "outputs": [
    {
     "name": "stdout",
     "output_type": "stream",
     "text": [
      "{'Black', 'Yellow', 'Green', 'Red'}\n"
     ]
    }
   ],
   "source": [
    "#Creating a set\n",
    "color={\"Red\", \"Green\", \"Yellow\", \"Black\"}\n",
    "print(color)"
   ]
  },
  {
   "cell_type": "code",
   "execution_count": 2,
   "id": "ed3798d2-2a0f-4065-8955-7ee4d91b1b9a",
   "metadata": {},
   "outputs": [
    {
     "name": "stdout",
     "output_type": "stream",
     "text": [
      "{1, 2, 3}\n"
     ]
    }
   ],
   "source": [
    "#Creating a set using set function\n",
    "n=set((2,1,3,2,1))\n",
    "print(n)"
   ]
  },
  {
   "cell_type": "code",
   "execution_count": 3,
   "id": "a50dd397-773f-4a91-81d5-ef951c71f37b",
   "metadata": {},
   "outputs": [
    {
     "name": "stdout",
     "output_type": "stream",
     "text": [
      "{1, 2, 3, 4, 5}\n",
      "{1, 2, 3, 4, 5}\n",
      "{3}\n",
      "{1, 2}\n",
      "{4, 5}\n",
      "{1, 2, 4, 5}\n",
      "{1, 2, 4, 5}\n"
     ]
    }
   ],
   "source": [
    "#Basic set operation\n",
    "a={1,2,3}\n",
    "b={3,4,5}\n",
    "print(a.union(b))\n",
    "print(b.union(a))\n",
    "print(a.intersection(b))\n",
    "print(a.difference(b))\n",
    "print(b.difference(a))\n",
    "print(a.symmetric_difference(b))\n",
    "print(b.symmetric_difference(a))"
   ]
  },
  {
   "cell_type": "code",
   "execution_count": 6,
   "id": "fe2e6884-82a1-4a4e-811c-341d74b62acd",
   "metadata": {},
   "outputs": [
    {
     "name": "stdout",
     "output_type": "stream",
     "text": [
      "{'Windows', 'Linux', 'MacOS'}\n",
      "{'Windows', 'Linux', 'Unix', 'MacOS'}\n"
     ]
    }
   ],
   "source": [
    "#Adding a new element in a set\n",
    "os={\"Windows\", \"Linux\",\"MacOS\"}\n",
    "print(os)\n",
    "os.add(\"Unix\")\n",
    "print(os)"
   ]
  },
  {
   "cell_type": "code",
   "execution_count": 7,
   "id": "c2400877-5577-492b-94b0-3e9564059c97",
   "metadata": {},
   "outputs": [
    {
     "name": "stdout",
     "output_type": "stream",
     "text": [
      "Students who are chosen both subjects: {'Shruthi', 'Jasra'}\n",
      "Students who are chosen either maths or cs: {'Ashifa', 'Monica', 'Alshifa', 'Anagha', 'Threya', 'Alfhiya'}\n",
      "Students who are chosen maths alone: {'Ashifa', 'Monica', 'Anagha'}\n",
      "Students who are chosen CS alone: {'Threya', 'Alfhiya', 'Alshifa'}\n",
      "{'Aslina', 'Ashifa', 'Monica', 'Anagha', 'Jasra', 'Shruthi'}\n"
     ]
    }
   ],
   "source": [
    "#Subject chosen\n",
    "maths={\"Ashifa\",\"Shruthi\",\"Jasra\",\"Monica\",\"Anagha\"}\n",
    "cs={\"Threya\",\"Shruthi\",\"Alfhiya\",\"Alshifa\",\"Jasra\"}\n",
    "print(\"Students who are chosen both subjects:\",maths.intersection(cs))\n",
    "print(\"Students who are chosen either maths or cs:\",maths.symmetric_difference(cs))\n",
    "print(\"Students who are chosen maths alone:\",maths.difference(cs))\n",
    "print(\"Students who are chosen CS alone:\",cs.difference(maths))\n",
    "maths.add(\"Aslina\")\n",
    "print(maths)"
   ]
  },
  {
   "cell_type": "code",
   "execution_count": 8,
   "id": "2ba9aa3c-2e29-41fa-a16b-457eb38d6b98",
   "metadata": {},
   "outputs": [
    {
     "name": "stdout",
     "output_type": "stream",
     "text": [
      "{'Ashifa', 'Monica', 'Anagha', 'Dhakshaiyaa', 'Jasra', 'Shruthi', 'Charu'}\n"
     ]
    }
   ],
   "source": [
    "#Updating a set\n",
    "maths={\"Ashifa\", \"Shruthi\", \"Jasra\", \"Monica\", \"Anagha\"}\n",
    "m={\"Charu\", \"Dhakshaiyaa\"}\n",
    "maths.update(m)\n",
    "print(maths)"
   ]
  },
  {
   "cell_type": "code",
   "execution_count": 9,
   "id": "096669d1-f22c-4e8b-98a0-7aac1ebf441d",
   "metadata": {},
   "outputs": [
    {
     "name": "stdout",
     "output_type": "stream",
     "text": [
      "{'sureka', 'ranjana', 'akshaya', 'krishna', 'alfiya', 'ram'}\n",
      "{'sureka', 'ranjana', 'akshaya', 'krishna', 'raksha', 'alfiya', 'ram'}\n",
      "{'sureka', 'ranjana', 'akshaya', 'krishna', 'raksha', 'alfiya'}\n",
      "{'sureka', 'ranjana', 'akshaya', 'raksha', 'alfiya'}\n",
      "set()\n"
     ]
    }
   ],
   "source": [
    "maths={\"ram\", \"krishna\", \"ranjana\", \"sureka\", \"alfiya\"} \n",
    "cs={\"ram\", \"ranjana\", \"alshifa\", \"dhanya\", \"raksha\"}\n",
    "maths.add(\"akshaya\")\n",
    "print(maths)\n",
    "dsa={\"raksha\"}\n",
    "maths.update(dsa)\n",
    "print(maths)\n",
    "maths.remove(\"ram\")\n",
    "print(maths)\n",
    "#cs.add(dsa) it will be a error\n",
    "#print(cs)\n",
    "maths.discard(\"krishna\") #if krishna is there it will discard\n",
    "maths.discard(\"saran\") #it doest give error even \"saran\" is not found\n",
    "#maths.remove(\"saran\") it returns error \"saran\" is not found\n",
    "print(maths)\n",
    "s={1,2,3,34,4}\n",
    "s.clear()\n",
    "print(s)"
   ]
  },
  {
   "cell_type": "code",
   "execution_count": 11,
   "id": "5796bfc1-78e8-40ce-b719-a94f653c63da",
   "metadata": {},
   "outputs": [
    {
     "name": "stdout",
     "output_type": "stream",
     "text": [
      "{'c', 'd', 'j', 'n', 'a', 'r', 'e'}\n"
     ]
    }
   ],
   "source": [
    "#Avoiding duplicates\n",
    "s={'a','c','e','d','j'}\n",
    "s.update('ranjana')\n",
    "print(s)"
   ]
  }
 ],
 "metadata": {
  "kernelspec": {
   "display_name": "Python 3 (ipykernel)",
   "language": "python",
   "name": "python3"
  },
  "language_info": {
   "codemirror_mode": {
    "name": "ipython",
    "version": 3
   },
   "file_extension": ".py",
   "mimetype": "text/x-python",
   "name": "python",
   "nbconvert_exporter": "python",
   "pygments_lexer": "ipython3",
   "version": "3.13.7"
  }
 },
 "nbformat": 4,
 "nbformat_minor": 5
}
