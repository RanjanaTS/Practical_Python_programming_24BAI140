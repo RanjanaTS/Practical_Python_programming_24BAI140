{
 "cells": [
  {
   "cell_type": "code",
   "execution_count": 2,
   "id": "b77fe33c-9106-440f-be9c-3af2e677549f",
   "metadata": {},
   "outputs": [
    {
     "name": "stdout",
     "output_type": "stream",
     "text": [
      "9\n"
     ]
    }
   ],
   "source": [
    "#Addition of two numbers\n",
    "add=lambda x,y:x+y\n",
    "print(add(4,5))"
   ]
  },
  {
   "cell_type": "code",
   "execution_count": 3,
   "id": "2d35e02e-1bcc-488d-9a01-1ba4d8b729c7",
   "metadata": {},
   "outputs": [
    {
     "name": "stdout",
     "output_type": "stream",
     "text": [
      "25\n"
     ]
    }
   ],
   "source": [
    "#Square of a number\n",
    "square=lambda x:x*x\n",
    "print(square(5))"
   ]
  },
  {
   "cell_type": "code",
   "execution_count": 4,
   "id": "5dfd9afd-9a25-4f25-9d8a-d1fecfb962ab",
   "metadata": {},
   "outputs": [
    {
     "name": "stdout",
     "output_type": "stream",
     "text": [
      "[16, 36, 64, 81, 4]\n"
     ]
    }
   ],
   "source": [
    "#Using lambda with map()\n",
    "n=[4,6,8,9,2]\n",
    "square=list(map(lambda n:n*n,n))\n",
    "print(square)"
   ]
  },
  {
   "cell_type": "code",
   "execution_count": 5,
   "id": "882147c1-5f03-4766-af5e-24669447852c",
   "metadata": {},
   "outputs": [
    {
     "name": "stdout",
     "output_type": "stream",
     "text": [
      "[4, 6, 8, 2]\n"
     ]
    }
   ],
   "source": [
    "#Using lambda with filter()\n",
    "n=[4,6,1,3,8,9,2]\n",
    "e=list(filter(lambda n:n%2==0,n))\n",
    "print(e)"
   ]
  },
  {
   "cell_type": "code",
   "execution_count": 8,
   "id": "b19ed30f-aa5b-4ebe-896c-ca6a212313f1",
   "metadata": {},
   "outputs": [
    {
     "name": "stdout",
     "output_type": "stream",
     "text": [
      "[True, True, False, False, True, False, True]\n"
     ]
    }
   ],
   "source": [
    "n=[4,6,1,3,8,7,2]\n",
    "e=list(map(lambda n:n%2==0,n))\n",
    "print(e)"
   ]
  }
 ],
 "metadata": {
  "kernelspec": {
   "display_name": "Python 3 (ipykernel)",
   "language": "python",
   "name": "python3"
  },
  "language_info": {
   "codemirror_mode": {
    "name": "ipython",
    "version": 3
   },
   "file_extension": ".py",
   "mimetype": "text/x-python",
   "name": "python",
   "nbconvert_exporter": "python",
   "pygments_lexer": "ipython3",
   "version": "3.13.7"
  }
 },
 "nbformat": 4,
 "nbformat_minor": 5
}
